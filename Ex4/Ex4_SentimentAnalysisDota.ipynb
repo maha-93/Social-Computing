{
 "cells": [
  {
   "cell_type": "markdown",
   "metadata": {},
   "source": [
    "# Social Computing/Social Gaming - Summer 2020\n",
    "\n",
    "# Exercise Sheet 4: Sentiment Analysis in DotA\n",
    "\n",
    "In this exercise we will work with data gathered from the popular MOBA *Defense of the Ancients 2* or short DotA 2, developed by Valve in 2013. If you are unfamiliar with this game, we provide a short introduction that should be enough to make you understand what the tasks demand from you:\n",
    "\n",
    "In Dota 2, two teams of 5 players play against each other on a single map, each team trying to destroy the enemy base, also called the ancient. In order to do this, they try to kill each other, earn gold and experience by killing non player characters called creeps to gain an advantage over the enemy. In every match, players first choose from a pool of 117 different heroes which are roughly divided into 2 groups: Carries, who start out weak and become much stronger once they accumulated a sufficient amount of gold to buy items they need, and supports, who start protect the carries in the early stages of a match, but tend to become less relevant in the later stages. Every team needs a balanced hero selection in order to have a chance of winning, as too many carries will have that team face a disadvantage early on, while too many supports may cause that team to struggle to win the game even once an advantage has been secured early.\n",
    "\n",
    "Psychologically speaking, DotA - or any MOBA for that matter - is an experiment on succesful team formation and cooperation, as 5 strangers meet each other for one match with the same goal, but usually different views on how to achieve it. Its real world equivalent would be any mash-up of people forced to work in a group, the only difference being that usually real-life situations don't involve another group working against them. \n",
    "\n",
    "Needless to say, the nature of the game does provoke negativity at times, and we want to try to predict it. More precisely, we want to find out whether we can infer negative player behavior from modelling the state of a game as a set of values.\n",
    "\n",
    "The .csv files provided for you contain information from 1.500 matches played during December 2016, and are split into 5 tables: \n",
    "\n",
    "- chat.csv : this table contains information about what was said in the chat between teams, when it was said and which player said it. We need the 'key', 'time' and 'slot' column as we are only interested in which team the players belong to, not their identities.\n",
    "- match.scsv: contains information about the game results. We only need the 'radiant_win' column from it, which tells us which team won.\n",
    "- players.csv : Detailed statistics for every player. 'kills' and 'deaths' columns are needed as we will need them to determine underperforming players\n",
    "- player_times.csv: Among other things the gold accumulated by every player, for every minute of a match, used to calculate the difference in gold earned between these teams.\n",
    "- labels.xlsx : a sample of labeled chat used for the sentiment analysis"
   ]
  },
  {
   "cell_type": "markdown",
   "metadata": {},
   "source": [
    "## Task 4.1: Your first sentiment analysis\n",
    "\n",
    "Sentiment analysis, sometimes called opinion mining, is a method to derive information from the text that allows for a classification as neutral, positive or negative. It is a semi-supervised process, meaning that you need a small set of labeled data to train your machine learning model on in order to use it on another set of unlabeled data. Without the labeled set it would be difficult for your AI to know what exactly makes a statement positive or negative. Some of its many practical applications are the analysis of customer reviews, social media comments or survey responses.\n",
    "\n",
    "**Note:** We will use a random forest classifier in this task.\n",
    "\n",
    "Your task is to train a model using the labeled data, then use that model to predict the sentiments of the whole chat. Let us start with the basics:"
   ]
  },
  {
   "cell_type": "markdown",
   "metadata": {},
   "source": [
    "### a) Preparation\n",
    "\n",
    "Import the labels and split them into two arrays: the chat itself and the labels.\n",
    "\n",
    "A label is like a review of a single message:  \n",
    "-1 = negative  \n",
    " 0 = neutral   \n",
    " 1 = positive"
   ]
  },
  {
   "cell_type": "code",
   "execution_count": 1,
   "metadata": {},
   "outputs": [],
   "source": [
    "#import libraries needed for sentiment analysis\n",
    "import numpy as np \n",
    "import pandas as pd \n",
    "import re\n",
    "import nltk \n",
    "import matplotlib.pyplot as plt\n",
    "\n",
    "#TODO: Import \"labels.xlsx\" and split it into 2 arrays: chat and labels.\n",
    "labels = pd.read_excel('labels.xlsx', header=None)\n",
    "chat_data = labels[0].to_list()\n",
    "chat_labels = labels[1].to_list()\n",
    "chat_data = chat_data[:450]\n",
    "chat_labels = chat_labels[:450]"
   ]
  },
  {
   "cell_type": "code",
   "execution_count": 2,
   "metadata": {},
   "outputs": [
    {
     "data": {
      "text/html": [
       "<div>\n",
       "<style scoped>\n",
       "    .dataframe tbody tr th:only-of-type {\n",
       "        vertical-align: middle;\n",
       "    }\n",
       "\n",
       "    .dataframe tbody tr th {\n",
       "        vertical-align: top;\n",
       "    }\n",
       "\n",
       "    .dataframe thead th {\n",
       "        text-align: right;\n",
       "    }\n",
       "</style>\n",
       "<table border=\"1\" class=\"dataframe\">\n",
       "  <thead>\n",
       "    <tr style=\"text-align: right;\">\n",
       "      <th></th>\n",
       "      <th>0</th>\n",
       "      <th>1</th>\n",
       "    </tr>\n",
       "  </thead>\n",
       "  <tbody>\n",
       "    <tr>\n",
       "      <th>0</th>\n",
       "      <td>force it</td>\n",
       "      <td>neutral</td>\n",
       "    </tr>\n",
       "    <tr>\n",
       "      <th>1</th>\n",
       "      <td>space created</td>\n",
       "      <td>neutral</td>\n",
       "    </tr>\n",
       "    <tr>\n",
       "      <th>2</th>\n",
       "      <td>hah</td>\n",
       "      <td>neutral</td>\n",
       "    </tr>\n",
       "    <tr>\n",
       "      <th>3</th>\n",
       "      <td>ez 500</td>\n",
       "      <td>negative</td>\n",
       "    </tr>\n",
       "    <tr>\n",
       "      <th>4</th>\n",
       "      <td>mvp ulti</td>\n",
       "      <td>neutral</td>\n",
       "    </tr>\n",
       "  </tbody>\n",
       "</table>\n",
       "</div>"
      ],
      "text/plain": [
       "               0         1\n",
       "0       force it   neutral\n",
       "1  space created   neutral\n",
       "2            hah   neutral\n",
       "3         ez 500  negative\n",
       "4       mvp ulti   neutral"
      ]
     },
     "execution_count": 2,
     "metadata": {},
     "output_type": "execute_result"
    }
   ],
   "source": [
    "labels.head()"
   ]
  },
  {
   "cell_type": "markdown",
   "metadata": {},
   "source": [
    "### b) How to train your model\n",
    "\n",
    "In this step you will use the chat and labels to train your random forest classifier. In order to do so, create the random forest classifier, fit it and make a prediction on the test set.\n",
    "\n",
    "After you are done, print the accuracy score and comment on it.\n",
    "\n",
    "**Hints:**\n",
    "- When creating the classifier, use n_estimators=200, random_state=0 as arguments.\n",
    "- The test should be 20% of the whole set"
   ]
  },
  {
   "cell_type": "code",
   "execution_count": 3,
   "metadata": {},
   "outputs": [
    {
     "name": "stderr",
     "output_type": "stream",
     "text": [
      "[nltk_data] Downloading package stopwords to\n",
      "[nltk_data]     /home/jupyter/nltk_data...\n",
      "[nltk_data]   Package stopwords is already up-to-date!\n"
     ]
    },
    {
     "data": {
      "text/plain": [
       "True"
      ]
     },
     "execution_count": 3,
     "metadata": {},
     "output_type": "execute_result"
    }
   ],
   "source": [
    "# There are some words which do not have any valuable classification information. \n",
    "# We will use 'stopwords' to get rid of them.\n",
    "import nltk\n",
    "nltk.download('stopwords')"
   ]
  },
  {
   "cell_type": "code",
   "execution_count": 4,
   "metadata": {},
   "outputs": [
    {
     "name": "stdout",
     "output_type": "stream",
     "text": [
      "[[ 8 16  0]\n",
      " [ 0 55  1]\n",
      " [ 0  4  6]]\n",
      "              precision    recall  f1-score   support\n",
      "\n",
      "    negative       1.00      0.33      0.50        24\n",
      "     neutral       0.73      0.98      0.84        56\n",
      "    positive       0.86      0.60      0.71        10\n",
      "\n",
      "    accuracy                           0.77        90\n",
      "   macro avg       0.86      0.64      0.68        90\n",
      "weighted avg       0.82      0.77      0.73        90\n",
      "\n",
      "0.7666666666666667\n"
     ]
    }
   ],
   "source": [
    "import nltk\n",
    "import sklearn\n",
    "from nltk.corpus import stopwords\n",
    "from sklearn.feature_extraction.text import TfidfVectorizer\n",
    "from sklearn.model_selection import train_test_split\n",
    "from sklearn.ensemble import RandomForestClassifier\n",
    "from sklearn.metrics import classification_report, confusion_matrix, accuracy_score\n",
    "from sklearn import preprocessing\n",
    "\n",
    "chat_data = [str (item) for item in chat_data]\n",
    "vectorizer = TfidfVectorizer (max_features=2500, min_df=3, max_df=0.8, stop_words=stopwords.words('english'))\n",
    "chat_data = vectorizer.fit_transform(chat_data).toarray()\n",
    "\n",
    "# TODO: Create the random forest classifier, fit it and make a prediction on the test set.\n",
    "X_train, X_test, y_train, y_test = train_test_split(chat_data, chat_labels, test_size=0.20, random_state=42)\n",
    "cls = RandomForestClassifier(n_estimators=200, random_state=0)\n",
    "cls.fit(chat_data,chat_labels)\n",
    "predictions = cls.predict(X_test)\n",
    "\n",
    "print(confusion_matrix(y_test,predictions))\n",
    "print(classification_report(y_test,predictions))\n",
    "print(accuracy_score(y_test, predictions))"
   ]
  },
  {
   "cell_type": "markdown",
   "metadata": {},
   "source": [
    "**Comments on accuracy score**\n",
    "\n",
    "The precision, recall, f1 score give us better insight on the result in addition to the accuracy.\n",
    "* We observe that the precision of negative is 1 which means 100% of the data points predicted as negative are indeed negative but the recall is only 0.33 which means there are too many negative samples misclassified. From the confusion matrix we see that the considerable number of negative samples are predicted as neutral. This is reflected with the low f1 score as well.\n",
    "* The result also shows the skewed distribution of the data. Neutral labeled data are represented more compared to positive or negative. That led to many samples classified as neutral. \n",
    "* All these together affected the accuracy."
   ]
  },
  {
   "cell_type": "markdown",
   "metadata": {},
   "source": [
    "### c) Prediction time:\n",
    "\n",
    "Now you can use the model to predict the sentiments for the whole chat. Import the chat and predict the labels. You will need to use `vectorizer.transform().toarray()` on your data, but **DO NOT** use `fit()` anywhere! The classifier is already fitted, fitting it again effectively erases all it has learned.\n",
    "\n",
    "**Hint:** chat.csv includes ALL chatlines, including those that have been used in the previous steps and are already labeled. Don't label them again.\n",
    "\n",
    "**Note:** The chat table is massive. Labelling all of it may take a while."
   ]
  },
  {
   "cell_type": "code",
   "execution_count": 9,
   "metadata": {
    "scrolled": true
   },
   "outputs": [
    {
     "data": {
      "text/plain": [
       "array(['neutral', 'neutral', 'neutral', ..., 'neutral', 'neutral',\n",
       "       'neutral'], dtype='<U8')"
      ]
     },
     "execution_count": 9,
     "metadata": {},
     "output_type": "execute_result"
    }
   ],
   "source": [
    "chatData = pd.read_csv(\"chat.csv\")\n",
    "chatData = chatData[450:]\n",
    "chatData = chatData.fillna('')\n",
    "unlabeled = chatData.iloc[:,1].values\n",
    "# TODO:\n",
    "vectorizer = TfidfVectorizer (max_features=chat_data.shape[1], min_df=3, max_df=0.8, stop_words=stopwords.words('english'))\n",
    "unlabeled = vectorizer.fit_transform(unlabeled).toarray()\n",
    "unlabeled_predictions = cls.predict(unlabeled)\n",
    "unlabeled_predictions"
   ]
  },
  {
   "cell_type": "code",
   "execution_count": 8,
   "metadata": {},
   "outputs": [
    {
     "data": {
      "text/html": [
       "<div>\n",
       "<style scoped>\n",
       "    .dataframe tbody tr th:only-of-type {\n",
       "        vertical-align: middle;\n",
       "    }\n",
       "\n",
       "    .dataframe tbody tr th {\n",
       "        vertical-align: top;\n",
       "    }\n",
       "\n",
       "    .dataframe thead th {\n",
       "        text-align: right;\n",
       "    }\n",
       "</style>\n",
       "<table border=\"1\" class=\"dataframe\">\n",
       "  <thead>\n",
       "    <tr style=\"text-align: right;\">\n",
       "      <th></th>\n",
       "      <th>match_id</th>\n",
       "      <th>key</th>\n",
       "      <th>slot</th>\n",
       "      <th>time</th>\n",
       "      <th>unit</th>\n",
       "    </tr>\n",
       "  </thead>\n",
       "  <tbody>\n",
       "    <tr>\n",
       "      <th>4267</th>\n",
       "      <td>152</td>\n",
       "      <td>NaN</td>\n",
       "      <td>8</td>\n",
       "      <td>2000</td>\n",
       "      <td>ebola alchemist silencer</td>\n",
       "    </tr>\n",
       "  </tbody>\n",
       "</table>\n",
       "</div>"
      ],
      "text/plain": [
       "      match_id  key  slot  time                       unit\n",
       "4267       152  NaN     8  2000   ebola alchemist silencer"
      ]
     },
     "execution_count": 8,
     "metadata": {},
     "output_type": "execute_result"
    }
   ],
   "source": [
    "chatData.loc[chatData['key'].isna()] # fill this key with ''"
   ]
  },
  {
   "cell_type": "markdown",
   "metadata": {},
   "source": [
    "## Task 4.2: Linear regression\n",
    "\n",
    "Linear regression is a technique that tries to find a correlation between a set of input variables x and a dependant variable y. In mathematical terms:\n",
    "\n",
    "$$y = \\alpha + \\beta X + \\epsilon$$\n",
    "\n",
    "where:\n",
    "- $X$ is the predictive vector, containing the (predictive) variables\n",
    "- $\\alpha$ and $\\beta$ are the model's parameters, where $\\alpha$ is the intercept/bias, $\\beta$ the coefficient vector containing coefficients for each predictive variable\n",
    "- and $\\epsilon$ the prediction error.\n",
    "\n",
    "Note that the assumption made is that the relationship is linear. This is a special case of polynomial regression, where we would allow for e.g. squared relationships.\n",
    "\n",
    "Our dependant variable is the negativity in the chat. Therefore we need to convert our labels into numbers first: We will use 0 for neutral, -1 for negative and +1 for positive sentiments. This is, of course, a simplification, as not all negative statements are equally negative. But we need to acknowledge that it is simply impossible to make an accurate distinction without knowing any context. And if we knew that, there would be no point in doing this regression."
   ]
  },
  {
   "cell_type": "code",
   "execution_count": 10,
   "metadata": {},
   "outputs": [],
   "source": [
    "# Convert the labels into values\n",
    "sentiments = []\n",
    "for i in chat_labels:\n",
    "    if i == 'positive':\n",
    "        sentiments.append(1)\n",
    "    elif i == 'negative':\n",
    "        sentiments.append(-1)\n",
    "    else:\n",
    "        sentiments.append(0)"
   ]
  },
  {
   "cell_type": "code",
   "execution_count": 11,
   "metadata": {},
   "outputs": [],
   "source": [
    "for i in unlabeled_predictions:\n",
    "    if i == 'positive':\n",
    "        sentiments.append(1)\n",
    "    elif i == 'negative':\n",
    "        sentiments.append(-1)\n",
    "    elif i == 'neutral':\n",
    "        sentiments.append(0)"
   ]
  },
  {
   "cell_type": "code",
   "execution_count": 12,
   "metadata": {},
   "outputs": [
    {
     "data": {
      "text/plain": [
       "46769"
      ]
     },
     "execution_count": 12,
     "metadata": {},
     "output_type": "execute_result"
    }
   ],
   "source": [
    "len(sentiments)"
   ]
  },
  {
   "cell_type": "markdown",
   "metadata": {},
   "source": [
    "### a) Preparation:\n",
    "\n",
    "1. First, we need to read the csv files and group them by `match_id`.\n",
    "\n",
    "2. We will create a dataframe containing all relevant information and each row will represent one match. An empty dataframe has already been created for you with all the columns you need to fill. Here is an explanation of what you need to put into each column:\n",
    "\n",
    "3. Create a list of tuples called `full_chatdata`, each tuple has the following structure: label, team.\n",
    "\n",
    "4. Create a list called `goldData` containing the gold advantage for every timestamp of a match (usually every minute).\n",
    "\n",
    "5. Create a list called `KDratios` of kill-death ratios for each player in a match, split into two parts, one for each team, called ratiosRadiant and ratiosDire.\n",
    "\n",
    "6. Add an additional column called `radiant_win` displaying the winning team using boolean.\n",
    "\n",
    "**Hints:**\n",
    "\n",
    "- you can find the labels in the chatData dataframe\n",
    "- use the `slot` column to determine the team. 0 to 4 is for radiant, 5-9 is for dire\n",
    "- There is a column in the match.csv file called `radiant_win` that displays true if team radiant won, false if not"
   ]
  },
  {
   "cell_type": "code",
   "execution_count": 13,
   "metadata": {},
   "outputs": [
    {
     "data": {
      "text/html": [
       "<div>\n",
       "<style scoped>\n",
       "    .dataframe tbody tr th:only-of-type {\n",
       "        vertical-align: middle;\n",
       "    }\n",
       "\n",
       "    .dataframe tbody tr th {\n",
       "        vertical-align: top;\n",
       "    }\n",
       "\n",
       "    .dataframe thead th {\n",
       "        text-align: right;\n",
       "    }\n",
       "</style>\n",
       "<table border=\"1\" class=\"dataframe\">\n",
       "  <thead>\n",
       "    <tr style=\"text-align: right;\">\n",
       "      <th></th>\n",
       "      <th>chatData</th>\n",
       "      <th>goldDataAvg</th>\n",
       "      <th>KDratios</th>\n",
       "      <th>radiant_win</th>\n",
       "      <th>goldData</th>\n",
       "    </tr>\n",
       "  </thead>\n",
       "  <tbody>\n",
       "    <tr>\n",
       "      <th>0</th>\n",
       "      <td>[[0, dire], [0, radiant], [0, radiant], [-1, d...</td>\n",
       "      <td>NaN</td>\n",
       "      <td>[[3.0, 4.333333333333333, 0.0, 2.0, 6.66666666...</td>\n",
       "      <td>True</td>\n",
       "      <td>[0, -257, -255, -567, -550, -1037, -1131, -122...</td>\n",
       "    </tr>\n",
       "    <tr>\n",
       "      <th>1</th>\n",
       "      <td>[[0, radiant], [0, radiant], [-1, radiant], [-...</td>\n",
       "      <td>NaN</td>\n",
       "      <td>[[0.75, 0.9, 0.38461538461538464, 0.8, 0.54545...</td>\n",
       "      <td>False</td>\n",
       "      <td>[0, -480, -583, -964, -573, -821, -937, -1077,...</td>\n",
       "    </tr>\n",
       "    <tr>\n",
       "      <th>2</th>\n",
       "      <td>[[1, dire], [-1, radiant], [1, dire], [-1, rad...</td>\n",
       "      <td>NaN</td>\n",
       "      <td>[[0.38461538461538464, 0.5454545454545454, 1.6...</td>\n",
       "      <td>False</td>\n",
       "      <td>[0, 273, 700, 839, 177, 522, -373, -69, -383, ...</td>\n",
       "    </tr>\n",
       "    <tr>\n",
       "      <th>3</th>\n",
       "      <td>[[0, dire], [0, radiant], [0, dire], [0, dire]...</td>\n",
       "      <td>NaN</td>\n",
       "      <td>[[0.3076923076923077, 1.8461538461538463, 1.54...</td>\n",
       "      <td>False</td>\n",
       "      <td>[0, -487, -157, -178, -69, -255, -497, -404, -...</td>\n",
       "    </tr>\n",
       "    <tr>\n",
       "      <th>4</th>\n",
       "      <td>[[0, dire], [0, radiant], [0, radiant], [0, di...</td>\n",
       "      <td>NaN</td>\n",
       "      <td>[[4.0, 4.5, 0.3333333333333333, 0.25, 3.0], [0...</td>\n",
       "      <td>True</td>\n",
       "      <td>[0, 333, 240, 515, 1310, 1755, 2044, 2839, 303...</td>\n",
       "    </tr>\n",
       "  </tbody>\n",
       "</table>\n",
       "</div>"
      ],
      "text/plain": [
       "                                            chatData goldDataAvg  \\\n",
       "0  [[0, dire], [0, radiant], [0, radiant], [-1, d...         NaN   \n",
       "1  [[0, radiant], [0, radiant], [-1, radiant], [-...         NaN   \n",
       "2  [[1, dire], [-1, radiant], [1, dire], [-1, rad...         NaN   \n",
       "3  [[0, dire], [0, radiant], [0, dire], [0, dire]...         NaN   \n",
       "4  [[0, dire], [0, radiant], [0, radiant], [0, di...         NaN   \n",
       "\n",
       "                                            KDratios  radiant_win  \\\n",
       "0  [[3.0, 4.333333333333333, 0.0, 2.0, 6.66666666...         True   \n",
       "1  [[0.75, 0.9, 0.38461538461538464, 0.8, 0.54545...        False   \n",
       "2  [[0.38461538461538464, 0.5454545454545454, 1.6...        False   \n",
       "3  [[0.3076923076923077, 1.8461538461538463, 1.54...        False   \n",
       "4  [[4.0, 4.5, 0.3333333333333333, 0.25, 3.0], [0...         True   \n",
       "\n",
       "                                            goldData  \n",
       "0  [0, -257, -255, -567, -550, -1037, -1131, -122...  \n",
       "1  [0, -480, -583, -964, -573, -821, -937, -1077,...  \n",
       "2  [0, 273, 700, 839, 177, 522, -373, -69, -383, ...  \n",
       "3  [0, -487, -157, -178, -69, -255, -497, -404, -...  \n",
       "4  [0, 333, 240, 515, 1310, 1755, 2044, 2839, 303...  "
      ]
     },
     "execution_count": 13,
     "metadata": {},
     "output_type": "execute_result"
    }
   ],
   "source": [
    "import pandas as pd\n",
    "import numpy as np\n",
    "\n",
    "# 1. Read the csv files and group them by match id\n",
    "chatData = pd.read_csv(\"chat.csv\")\n",
    "chatData = chatData.drop(['unit'],axis=1)\n",
    "chatData = chatData.fillna(' ')\n",
    "chatData['label'] = sentiments # We are assigning labels to the chat messages\n",
    "chatData = chatData.groupby('match_id')\n",
    "player_times = pd.read_csv(\"player_time.csv\")\n",
    "player_times = player_times.groupby('match_id')\n",
    "match_info = pd.read_csv(\"match.csv\")\n",
    "radiant_win = match_info['radiant_win']\n",
    "player_info = pd.read_csv(\"players.csv\")\n",
    "player_info = player_info[['match_id', 'kills','deaths']]\n",
    "player_info = player_info.groupby('match_id')\n",
    "\n",
    "\n",
    "# 2. Create the dataframe\n",
    "dataframe = pd.DataFrame(columns = ['chatData','goldDataAvg', 'KDratios', 'radiant_win'])\n",
    "\n",
    "# 3.\n",
    "full_chatdata = []\n",
    "\n",
    "for name, group in chatData:\n",
    "    chat_data_line = []\n",
    "    for index,row in group.iterrows():\n",
    "        chat_tuple = []\n",
    "        # TODO: Create a list of tuples called full_chatdata, each tuple has the following structure: label, team.\n",
    "        # Hint 1: use the label column to determine the negativity/positivity of the message\n",
    "        # Hint 2: use the 'slot' column to determine the team. 0 to 4 is for radiant, 5-9 is for dire.\n",
    "        label = row['label']\n",
    "        team = ['radiant' if row['slot']<=4 else 'dire']\n",
    "        chat_tuple.append(label)\n",
    "        chat_tuple.append(team[0])\n",
    "        chat_data_line.append(chat_tuple)\n",
    "    full_chatdata.append(chat_data_line)\n",
    "               \n",
    "# 4. Create a list containing the gold advantage\n",
    "full_golddata =[]\n",
    "\n",
    "for name,group in player_times:\n",
    "    radiantAdv =[]\n",
    "    for index, row in group.iterrows():\n",
    "        radiantAdv.append((row['gold_t_0']+row['gold_t_1']+row['gold_t_2']+row['gold_t_3']+row['gold_t_4'])-\n",
    "            (row['gold_t_128']+row['gold_t_129']+row['gold_t_130']+row['gold_t_131']+row['gold_t_132']))\n",
    "        \n",
    "    full_golddata.append(radiantAdv)\n",
    "\n",
    "# 5.\n",
    "full_playerinfo = []\n",
    "for name, group in player_info:\n",
    "    playerinfo = []\n",
    "    for index, row in group.iterrows():\n",
    "        killsdeaths = []\n",
    "        killsdeaths.append(row['kills'])\n",
    "        killsdeaths.append(row['deaths'])\n",
    "        playerinfo.append(killsdeaths)\n",
    "    full_playerinfo.append(playerinfo)\n",
    "\n",
    "full_KDRatios = []\n",
    "\n",
    "for row in full_playerinfo:\n",
    "    KDRatios = []\n",
    "    ratiosRadiant =[]\n",
    "    ratiosDire = []\n",
    "    for i,player in enumerate(row):\n",
    "        # TODO: Create a list called [...] kill-death ratios for each player\n",
    "        # Hint: For each game the kd ratios should look like the following: \n",
    "        # [[RadiantPlayer0KD, ... RadiantPlayer4KD],[DirePlayer0KD, ... DirePlayer4KD]] \n",
    "        kd = 0\n",
    "        if player[1] == 0:\n",
    "            kd = player[0]\n",
    "        else:\n",
    "            kd = player[0]/player[1]\n",
    "        if i <= 4:\n",
    "            ratiosRadiant.append(kd)\n",
    "        else:\n",
    "            ratiosDire.append(kd)\n",
    "        if i == 4:\n",
    "            KDRatios.append(ratiosRadiant)\n",
    "        if i == 9:\n",
    "            KDRatios.append(ratiosDire)\n",
    "    full_KDRatios.append(KDRatios)\n",
    "               \n",
    "# We add the newly created columns to our dataframe       \n",
    "dataframe['chatData'] = full_chatdata\n",
    "dataframe['goldData'] = full_golddata\n",
    "dataframe['radiant_win'] = radiant_win\n",
    "dataframe['KDratios'] = full_KDRatios\n",
    "     \n",
    "dataframe.head(5)"
   ]
  },
  {
   "cell_type": "markdown",
   "metadata": {},
   "source": [
    "### b) Per-match analysis:\n",
    "\n",
    "As you may have noticed, the gold variables are gathered every minute, but the chat times are irregular. We could try to group the chat into 60 second timeframes that would correspond with the gold values, but this would be too tedious. Instead, we will simplify this by looking at the game as a whole:\n",
    "\n",
    "1. Compute the average negativity for each team by iterating over the list of tuples you created in exercise 4.2.3.\n",
    "\n",
    "2. Then, compute the average gold advantage for each match, and add a column for the gold advantage at the end of a match. The gold advantage at the end of a match is the last value of the list.\n",
    "\n",
    "3. Create a new column for the difference in negativity between the two teams.\n",
    "\n",
    "4. The kill/death ratios aren't very useful in the current format. Take the lowest K/D ratio from each team and create new columns for them. The reasoning behind this is that a low K/D ratio is a sign of underperformance of a player and players who do not perform on an acceptable level are usually harassed more often."
   ]
  },
  {
   "cell_type": "code",
   "execution_count": 14,
   "metadata": {},
   "outputs": [
    {
     "data": {
      "text/html": [
       "<div>\n",
       "<style scoped>\n",
       "    .dataframe tbody tr th:only-of-type {\n",
       "        vertical-align: middle;\n",
       "    }\n",
       "\n",
       "    .dataframe tbody tr th {\n",
       "        vertical-align: top;\n",
       "    }\n",
       "\n",
       "    .dataframe thead th {\n",
       "        text-align: right;\n",
       "    }\n",
       "</style>\n",
       "<table border=\"1\" class=\"dataframe\">\n",
       "  <thead>\n",
       "    <tr style=\"text-align: right;\">\n",
       "      <th></th>\n",
       "      <th>chatData</th>\n",
       "      <th>goldDataAvg</th>\n",
       "      <th>KDratios</th>\n",
       "      <th>radiant_win</th>\n",
       "      <th>goldData</th>\n",
       "      <th>toxicityR</th>\n",
       "      <th>toxicityD</th>\n",
       "      <th>goldEnd</th>\n",
       "      <th>diff</th>\n",
       "      <th>worstKDR</th>\n",
       "      <th>worstKDD</th>\n",
       "    </tr>\n",
       "  </thead>\n",
       "  <tbody>\n",
       "    <tr>\n",
       "      <th>0</th>\n",
       "      <td>[[0, dire], [0, radiant], [0, radiant], [-1, d...</td>\n",
       "      <td>NaN</td>\n",
       "      <td>[[3.0, 4.333333333333333, 0.0, 2.0, 6.66666666...</td>\n",
       "      <td>True</td>\n",
       "      <td>5405.651163</td>\n",
       "      <td>-0.173913</td>\n",
       "      <td>-0.214286</td>\n",
       "      <td>22365</td>\n",
       "      <td>0.040373</td>\n",
       "      <td>0.000000</td>\n",
       "      <td>0.071429</td>\n",
       "    </tr>\n",
       "    <tr>\n",
       "      <th>1</th>\n",
       "      <td>[[0, radiant], [0, radiant], [-1, radiant], [-...</td>\n",
       "      <td>NaN</td>\n",
       "      <td>[[0.75, 0.9, 0.38461538461538464, 0.8, 0.54545...</td>\n",
       "      <td>False</td>\n",
       "      <td>-7245.478261</td>\n",
       "      <td>-0.636364</td>\n",
       "      <td>-0.200000</td>\n",
       "      <td>-35698</td>\n",
       "      <td>-0.436364</td>\n",
       "      <td>0.384615</td>\n",
       "      <td>0.166667</td>\n",
       "    </tr>\n",
       "    <tr>\n",
       "      <th>2</th>\n",
       "      <td>[[1, dire], [-1, radiant], [1, dire], [-1, rad...</td>\n",
       "      <td>NaN</td>\n",
       "      <td>[[0.38461538461538464, 0.5454545454545454, 1.6...</td>\n",
       "      <td>False</td>\n",
       "      <td>-4928.145833</td>\n",
       "      <td>-0.166667</td>\n",
       "      <td>0.047619</td>\n",
       "      <td>-26720</td>\n",
       "      <td>-0.214286</td>\n",
       "      <td>0.000000</td>\n",
       "      <td>0.833333</td>\n",
       "    </tr>\n",
       "    <tr>\n",
       "      <th>3</th>\n",
       "      <td>[[0, dire], [0, radiant], [0, dire], [0, dire]...</td>\n",
       "      <td>NaN</td>\n",
       "      <td>[[0.3076923076923077, 1.8461538461538463, 1.54...</td>\n",
       "      <td>False</td>\n",
       "      <td>-2074.759259</td>\n",
       "      <td>0.272727</td>\n",
       "      <td>-0.071429</td>\n",
       "      <td>-7919</td>\n",
       "      <td>0.344156</td>\n",
       "      <td>0.117647</td>\n",
       "      <td>0.263158</td>\n",
       "    </tr>\n",
       "    <tr>\n",
       "      <th>4</th>\n",
       "      <td>[[0, dire], [0, radiant], [0, radiant], [0, di...</td>\n",
       "      <td>NaN</td>\n",
       "      <td>[[4.0, 4.5, 0.3333333333333333, 0.25, 3.0], [0...</td>\n",
       "      <td>True</td>\n",
       "      <td>13510.088235</td>\n",
       "      <td>-0.333333</td>\n",
       "      <td>-0.500000</td>\n",
       "      <td>41280</td>\n",
       "      <td>0.166667</td>\n",
       "      <td>0.250000</td>\n",
       "      <td>0.090909</td>\n",
       "    </tr>\n",
       "  </tbody>\n",
       "</table>\n",
       "</div>"
      ],
      "text/plain": [
       "                                            chatData goldDataAvg  \\\n",
       "0  [[0, dire], [0, radiant], [0, radiant], [-1, d...         NaN   \n",
       "1  [[0, radiant], [0, radiant], [-1, radiant], [-...         NaN   \n",
       "2  [[1, dire], [-1, radiant], [1, dire], [-1, rad...         NaN   \n",
       "3  [[0, dire], [0, radiant], [0, dire], [0, dire]...         NaN   \n",
       "4  [[0, dire], [0, radiant], [0, radiant], [0, di...         NaN   \n",
       "\n",
       "                                            KDratios  radiant_win  \\\n",
       "0  [[3.0, 4.333333333333333, 0.0, 2.0, 6.66666666...         True   \n",
       "1  [[0.75, 0.9, 0.38461538461538464, 0.8, 0.54545...        False   \n",
       "2  [[0.38461538461538464, 0.5454545454545454, 1.6...        False   \n",
       "3  [[0.3076923076923077, 1.8461538461538463, 1.54...        False   \n",
       "4  [[4.0, 4.5, 0.3333333333333333, 0.25, 3.0], [0...         True   \n",
       "\n",
       "       goldData  toxicityR  toxicityD  goldEnd      diff  worstKDR  worstKDD  \n",
       "0   5405.651163  -0.173913  -0.214286    22365  0.040373  0.000000  0.071429  \n",
       "1  -7245.478261  -0.636364  -0.200000   -35698 -0.436364  0.384615  0.166667  \n",
       "2  -4928.145833  -0.166667   0.047619   -26720 -0.214286  0.000000  0.833333  \n",
       "3  -2074.759259   0.272727  -0.071429    -7919  0.344156  0.117647  0.263158  \n",
       "4  13510.088235  -0.333333  -0.500000    41280  0.166667  0.250000  0.090909  "
      ]
     },
     "execution_count": 14,
     "metadata": {},
     "output_type": "execute_result"
    }
   ],
   "source": [
    "from sklearn import  svm \n",
    "from sklearn.model_selection import train_test_split \n",
    "from sklearn.linear_model import LinearRegression\n",
    "from statistics import mean\n",
    "\n",
    "\n",
    "# 1. Average negativity\n",
    "radiantToxicity_full = []\n",
    "direToxicity_full = []\n",
    "\n",
    "for index, row in dataframe.iterrows():\n",
    "    radiantToxicity = 0\n",
    "    direToxicity = 0\n",
    "    # These counters keep of track of the number of messages each team wrote:\n",
    "    radiantcounter = 0\n",
    "    direcounter = 0\n",
    "    for tuples in row['chatData']:\n",
    "        # TODO: Calculate each team's toxicity by summing all labels of a match.\n",
    "        # Hint: Don't forget to keep count of the number of messages written by each team.\n",
    "        if tuples[1] == 'radiant':\n",
    "            radiantToxicity += tuples[0]\n",
    "            radiantcounter += 1\n",
    "        else:\n",
    "            direToxicity += tuples[0]\n",
    "            direcounter += 1\n",
    "    if radiantcounter != 0:\n",
    "        radiantToxicity_full.append(radiantToxicity/radiantcounter)\n",
    "    else:\n",
    "        radiantToxicity_full.append(0)\n",
    "    if direcounter != 0:\n",
    "        direToxicity_full.append(direToxicity/direcounter)\n",
    "    else:\n",
    "        direToxicity_full.append(0)\n",
    "        \n",
    "# 2. Average gold\n",
    "goldAverages = []\n",
    "goldEnd = []\n",
    "for index, row in dataframe.iterrows():\n",
    "    # TODO: Compute the average gold advantage for each match, as well as the gold advantage at the end of the match.\n",
    "    # Hint: The column goldData contains a list with gold advantage per minutes.\n",
    "    gold_data = row['goldData']\n",
    "    goldAverages.append(sum(gold_data)/len(gold_data))\n",
    "    goldEnd.append(gold_data[-1:][0])\n",
    "    \n",
    "# 3. Difference in negativity\n",
    "differences = []\n",
    "# TODO: Compute the difference in negativity between the 2 teams.\n",
    "differences = np.array(radiantToxicity_full) - np.array(direToxicity_full)\n",
    "\n",
    "# 4. K/D ratios\n",
    "worstRadiant = []\n",
    "worstDire = []\n",
    "for index, row in dataframe.iterrows():\n",
    "    # TODO: Take the lowest K/D ratio from each team and create new columns for them.\n",
    "    radiant = row['KDratios'][0]\n",
    "    dire = row['KDratios'][1]\n",
    "    worstRadiant.append(min(radiant))\n",
    "    worstDire.append(min(dire))\n",
    "    \n",
    "    \n",
    "# We add the newly created columns to our dataframe       \n",
    "dataframe['toxicityR'] = radiantToxicity_full\n",
    "dataframe['toxicityD'] = direToxicity_full\n",
    "dataframe['goldData'] = goldAverages\n",
    "dataframe['goldEnd'] = goldEnd \n",
    "dataframe['diff'] = differences\n",
    "dataframe['worstKDR'] = worstRadiant\n",
    "dataframe['worstKDD'] = worstDire\n",
    "\n",
    "dataframe.head(5)"
   ]
  },
  {
   "cell_type": "markdown",
   "metadata": {},
   "source": [
    "### c) A warm-up regression\n",
    "\n",
    "Before we test our hypothesis of whether or not the state of the game influences player behavior, we will perform a linear regression with only one input variable: The gold advantage. \n",
    "\n",
    "You have probably wondered why we just assume that the gold values would represent the state of a game, whether a team is losing or winning. So far, this has only been a theory, and we should test it, as it would not make sense to use it as a representation for the state of the game in the actual regression model, if it wasn't representative at all.\n",
    "\n",
    "1. Once again, split your data into a train set and test set, create a linear regression model, fit the data and print your score. Try it two times: Your dependant variable should always be `radiant_win`, your X should be the average gold advantage and the gold advantage at the end. \n",
    "\n",
    "2. Discuss the score you obtained! What do the results mean for the explanatory power of the gold variables?"
   ]
  },
  {
   "cell_type": "code",
   "execution_count": 15,
   "metadata": {},
   "outputs": [
    {
     "name": "stdout",
     "output_type": "stream",
     "text": [
      "0.6210875228160554\n"
     ]
    }
   ],
   "source": [
    "from sklearn import linear_model\n",
    "\n",
    "# TODO 1:\n",
    "X = dataframe[['goldData']] # TODO \n",
    "y = dataframe[['radiant_win']] # TODO\n",
    "\n",
    "# Splitting the data into training and testing data\n",
    "X_train, X_test, y_train, y_test = train_test_split(X, y, test_size = 0.25) \n",
    "  \n",
    "regr = LinearRegression() \n",
    "  \n",
    "regr.fit(X_train, y_train) \n",
    "print(regr.score(X_test, y_test))"
   ]
  },
  {
   "cell_type": "code",
   "execution_count": 16,
   "metadata": {},
   "outputs": [
    {
     "name": "stdout",
     "output_type": "stream",
     "text": [
      "376 376\n"
     ]
    },
    {
     "data": {
      "image/png": "[encoded data removed]",
      "text/plain": [
       "<Figure size 432x288 with 1 Axes>"
      ]
     },
     "metadata": {
      "needs_background": "light"
     },
     "output_type": "display_data"
    }
   ],
   "source": [
    "y_pred = regr.predict(X_test) \n",
    "print(len(y_pred),len(y_test))\n",
    "plt.scatter(X_test, y_test, color ='b') \n",
    "plt.plot(X_test, y_pred, color ='k') \n",
    "  \n",
    "plt.show() "
   ]
  },
  {
   "cell_type": "code",
   "execution_count": 17,
   "metadata": {},
   "outputs": [
    {
     "name": "stdout",
     "output_type": "stream",
     "text": [
      "0.8465046940343773\n"
     ]
    }
   ],
   "source": [
    "from sklearn import linear_model\n",
    "\n",
    "# TODO 1:\n",
    "X = dataframe[['goldEnd']] # TODO \n",
    "y = dataframe[['radiant_win']] # TODO\n",
    "\n",
    "# Splitting the data into training and testing data\n",
    "X_train, X_test, y_train, y_test = train_test_split(X, y, test_size = 0.25) \n",
    "  \n",
    "regr = LinearRegression() \n",
    "  \n",
    "regr.fit(X_train, y_train) \n",
    "print(regr.score(X_test, y_test))"
   ]
  },
  {
   "cell_type": "code",
   "execution_count": 18,
   "metadata": {},
   "outputs": [
    {
     "name": "stdout",
     "output_type": "stream",
     "text": [
      "376 376\n"
     ]
    },
    {
     "data": {
      "image/png": "[encoded data removed]",
      "text/plain": [
       "<Figure size 432x288 with 1 Axes>"
      ]
     },
     "metadata": {
      "needs_background": "light"
     },
     "output_type": "display_data"
    }
   ],
   "source": [
    "y_pred = regr.predict(X_test) \n",
    "print(len(y_pred),len(y_test))\n",
    "plt.scatter(X_test, y_test, color ='b') \n",
    "plt.plot(X_test, y_pred, color ='k') \n",
    "  \n",
    "plt.show() "
   ]
  },
  {
   "cell_type": "markdown",
   "metadata": {},
   "source": [
    "**TODO: Write your observations here:**\n",
    "\n",
    "* The regression score is better for *goldEnd* model.\n",
    "* The plots show that a decision boundary can be clearly picked around *goldEnd* 0 (ie) rule as *goldEnd* > 0 then *radiant_win* True and False otherwise, unlike lot of points way beyond 0 unexplained in *goldData* plot.\n",
    "\n",
    "Thus, the plots and the regression score explain that *goldEnd* feature helps in predicting *radiant_win* better than *goldData*. This validates that the gold earned at the last point of the game determines who has upper hand in the game.\n",
    "\n",
    "The linear regressor can be made to predict *0* or *1* by converting it to a decision boundary at 0.\n"
   ]
  },
  {
   "cell_type": "markdown",
   "metadata": {},
   "source": [
    "### d) Testing our hypothesis\n",
    "\n",
    "**1.** Finally, we can do our linear regression. This time, use the gold data, the kill/death ratios and the negativity scores."
   ]
  },
  {
   "cell_type": "code",
   "execution_count": 19,
   "metadata": {},
   "outputs": [
    {
     "name": "stdout",
     "output_type": "stream",
     "text": [
      "0.856677386846703\n"
     ]
    }
   ],
   "source": [
    "# TODO 1:\n",
    "X = dataframe[['goldData', 'goldEnd', 'worstKDR', 'worstKDD', 'diff' ]] # TODO \n",
    "Y = dataframe[['radiant_win']] # TODO\n",
    "# with sklearn\n",
    "regr = linear_model.LinearRegression()\n",
    "regr.fit(X, Y)\n",
    "print(regr.score(X,Y))"
   ]
  },
  {
   "cell_type": "markdown",
   "metadata": {},
   "source": [
    "### e) Discussion\n",
    "\n",
    "What is the score? What does that number mean? Discuss possible reasons for this result.  \n",
    "**Hint:** Take a peek at the labels.xlsx file and look at some of the most common negative words. "
   ]
  },
  {
   "cell_type": "markdown",
   "metadata": {},
   "source": [
    "**TODO: Write your observations here:**\n",
    "\n",
    "* The score is slightly better than using only gold related features. Therefore, using all the features helped the learner learn it better.\n",
    "* This score is the R2 score which tells us how much of the test points are correctly classified. Higher the score better the classifier.\n",
    "* From the previous learning task, we understood that *goldEnd* mattered and adding more details about the kill deaths ration especially the worst ones, and the difference which kinda inherently has the detail of which team is on the winning side, helped the model to learn the winning strategy of the game.\n",
    "* Also most of the negative words are handful only - *no, die, lose, hit, fuck...*. So, the model could learn it easily."
   ]
  },
  {
   "cell_type": "code",
   "execution_count": null,
   "metadata": {},
   "outputs": [],
   "source": []
  }
 ],
 "metadata": {
  "kernelspec": {
   "display_name": "Python 3",
   "language": "python",
   "name": "python3"
  },
  "language_info": {
   "codemirror_mode": {
    "name": "ipython",
    "version": 3
   },
   "file_extension": ".py",
   "mimetype": "text/x-python",
   "name": "python",
   "nbconvert_exporter": "python",
   "pygments_lexer": "ipython3",
   "version": "3.6.8"
  }
 },
 "nbformat": 4,
 "nbformat_minor": 2
}
